{
 "cells": [
  {
   "cell_type": "code",
   "execution_count": 1,
   "metadata": {},
   "outputs": [
    {
     "name": "stdout",
     "output_type": "stream",
     "text": [
      "Dataset loaded successfully!\n",
      "Columns in dataset: ['Latitude', 'Longitude', 'SOURCE', 'SOURCE.NAM', 'OTHER.NAME', 'WELL.ID', 'Al (ppb)', 'As (ppb)', 'Ba (ppb)', 'Ca (ppb)', 'Cl (ppb)', 'Cr (ppb)', 'Cu (ppb)', 'F (ppb)', 'Fe (ppb)', 'K (ppb)', 'Mg (ppb)', 'Mn (ppb)', 'Mo (ppb)', 'Ni (ppb)', 'NO3 (ppb)', 'Pb (ppb)', 'Se (ppb)', 'SO4 (ppb)', 'Sr (ppb)', 'U (ppb)', 'V (ppb) ', 'Zn (ppb)', 'Cr_level']\n",
      "Using element columns: ['Al (ppb)', 'As (ppb)', 'Ba (ppb)', 'Ca (ppb)', 'Cl (ppb)', 'Cr (ppb)', 'Cu (ppb)', 'F (ppb)', 'Fe (ppb)', 'K (ppb)', 'Mg (ppb)', 'Mn (ppb)', 'Mo (ppb)', 'Ni (ppb)', 'NO3 (ppb)', 'Pb (ppb)', 'Se (ppb)', 'SO4 (ppb)', 'Sr (ppb)', 'U (ppb)', 'Zn (ppb)']\n",
      "Subset elements: ['Cr (ppb)', 'U (ppb)', 'SO4 (ppb)']\n"
     ]
    }
   ],
   "source": [
    "# Import necessary libraries\n",
    "import pandas as pd\n",
    "import numpy as np\n",
    "import matplotlib.pyplot as plt\n",
    "from sklearn.cluster import KMeans\n",
    "from sklearn.preprocessing import StandardScaler\n",
    "from scipy.stats import gmean\n",
    "\n",
    "# ---------------------------\n",
    "# 1. Load and Prepare Data\n",
    "# ---------------------------\n",
    "file_path = \"D:/RobertSichomba/HomeWork2/data/hw2.csv\"\n",
    "\n",
    "# Load the CSV file with error handling\n",
    "try:\n",
    "    data = pd.read_csv(file_path, encoding=\"utf-8\")\n",
    "except UnicodeDecodeError:\n",
    "    data = pd.read_csv(file_path, encoding=\"ISO-8859-1\")\n",
    "\n",
    "# Check for missing values\n",
    "data.dropna(inplace=True)  # Drop rows with missing values\n",
    "\n",
    "# Define element columns (Ensure exact column names match the dataset)\n",
    "all_elements = [\n",
    "    'Al (ppb)', 'As (ppb)', 'Ba (ppb)', 'Ca (ppb)', 'Cl (ppb)', 'Cr (ppb)', \n",
    "    'Cu (ppb)', 'F (ppb)', 'Fe (ppb)', 'K (ppb)', 'Mg (ppb)', 'Mn (ppb)', \n",
    "    'Mo (ppb)', 'Ni (ppb)', 'NO3 (ppb)', 'Pb (ppb)', 'Se (ppb)', 'SO4 (ppb)', \n",
    "    'Sr (ppb)', 'U (ppb)', 'V (ppb)', 'Zn (ppb)'\n",
    "]\n",
    "subset_elements = ['Cr (ppb)', 'U (ppb)', 'SO4 (ppb)']\n",
    "\n",
    "# Ensure only columns that exist in the dataset are selected\n",
    "all_elements = [col for col in all_elements if col in data.columns]\n",
    "subset_elements = [col for col in subset_elements if col in data.columns]\n",
    "\n",
    "# Display dataset info\n",
    "print(\"Dataset loaded successfully!\")\n",
    "print(f\"Columns in dataset: {list(data.columns)}\")\n",
    "print(f\"Using element columns: {all_elements}\")\n",
    "print(f\"Subset elements: {subset_elements}\")\n",
    "\n"
   ]
  },
  {
   "cell_type": "code",
   "execution_count": 2,
   "metadata": {},
   "outputs": [],
   "source": [
    "# ---------------------------\n",
    "# 2. CLR Transformation\n",
    "# ---------------------------\n",
    "def clr_transform(df, cols):\n",
    "    \"\"\"Apply Centered Log-Ratio (CLR) transformation to compositional data.\"\"\"\n",
    "    df_transformed = df[cols] + 1e-9  # Add pseudocount to avoid log(0)\n",
    "    gm = gmean(df_transformed, axis=1)\n",
    "    clr_data = np.log(df_transformed.div(gm, axis=0))\n",
    "    return clr_data\n",
    "\n",
    "data_clr_all = clr_transform(data, all_elements)\n",
    "data_clr_subset = clr_transform(data, subset_elements)\n",
    "\n",
    "# ---------------------------\n",
    "# 3. K-Means Clustering\n",
    "# ---------------------------\n",
    "def perform_kmeans(data, n_clusters=3):\n",
    "    \"\"\"Perform K-means clustering on standardized data.\"\"\"\n",
    "    scaler = StandardScaler()\n",
    "    scaled_data = scaler.fit_transform(data)\n",
    "    kmeans = KMeans(n_clusters=n_clusters, random_state=42)\n",
    "    return kmeans.fit_predict(scaled_data)\n",
    "\n",
    "# Cluster labels for all scenarios\n",
    "labels_raw_all = perform_kmeans(data[all_elements])\n",
    "labels_raw_subset = perform_kmeans(data[subset_elements])\n",
    "labels_clr_all = perform_kmeans(data_clr_all)\n",
    "labels_clr_subset = perform_kmeans(data_clr_subset)\n",
    "\n"
   ]
  },
  {
   "cell_type": "code",
   "execution_count": 3,
   "metadata": {},
   "outputs": [
    {
     "ename": "NameError",
     "evalue": "name 'elements_all' is not defined",
     "output_type": "error",
     "traceback": [
      "\u001b[31m---------------------------------------------------------------------------\u001b[39m",
      "\u001b[31mNameError\u001b[39m                                 Traceback (most recent call last)",
      "\u001b[36mCell\u001b[39m\u001b[36m \u001b[39m\u001b[32mIn[3]\u001b[39m\u001b[32m, line 4\u001b[39m\n\u001b[32m      2\u001b[39m cluster_num = \u001b[32m3\u001b[39m\n\u001b[32m      3\u001b[39m kmeans = KMeans(n_clusters=cluster_num, random_state=\u001b[32m42\u001b[39m)\n\u001b[32m----> \u001b[39m\u001b[32m4\u001b[39m kmeans.fit(data[\u001b[43melements_all\u001b[49m])  \u001b[38;5;66;03m# Using all elements\u001b[39;00m\n\u001b[32m      5\u001b[39m data[\u001b[33m'\u001b[39m\u001b[33mcluster_label\u001b[39m\u001b[33m'\u001b[39m] = kmeans.labels_\n\u001b[32m      7\u001b[39m \u001b[38;5;66;03m# Get the cluster centers\u001b[39;00m\n",
      "\u001b[31mNameError\u001b[39m: name 'elements_all' is not defined"
     ]
    }
   ],
   "source": [
    "# Perform k-means clustering on raw data (all elements)\n",
    "cluster_num = 3\n",
    "kmeans = KMeans(n_clusters=cluster_num, random_state=42)\n",
    "kmeans.fit(data[elements_all])  # Using all elements\n",
    "data['cluster_label'] = kmeans.labels_\n",
    "\n",
    "# Get the cluster centers\n",
    "cluster_centers = kmeans.cluster_centers_\n"
   ]
  },
  {
   "cell_type": "code",
   "execution_count": null,
   "metadata": {},
   "outputs": [],
   "source": []
  }
 ],
 "metadata": {
  "kernelspec": {
   "display_name": "venv",
   "language": "python",
   "name": "python3"
  },
  "language_info": {
   "codemirror_mode": {
    "name": "ipython",
    "version": 3
   },
   "file_extension": ".py",
   "mimetype": "text/x-python",
   "name": "python",
   "nbconvert_exporter": "python",
   "pygments_lexer": "ipython3",
   "version": "3.13.1"
  }
 },
 "nbformat": 4,
 "nbformat_minor": 2
}
